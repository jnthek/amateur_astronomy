{
 "cells": [
  {
   "cell_type": "code",
   "execution_count": 16,
   "metadata": {},
   "outputs": [],
   "source": [
    "import matplotlib.pyplot as plt\n",
    "import numpy as np\n",
    "import h5py\n",
    "import time\n",
    "\n",
    "plt.rcParams.update({'font.size': 18})"
   ]
  },
  {
   "cell_type": "code",
   "execution_count": 17,
   "metadata": {},
   "outputs": [],
   "source": [
    "h5_file = \"test_file.h5\""
   ]
  },
  {
   "cell_type": "code",
   "execution_count": 28,
   "metadata": {},
   "outputs": [
    {
     "name": "stdout",
     "output_type": "stream",
     "text": [
      "Reading test_file.h5\n"
     ]
    },
    {
     "ename": "AttributeError",
     "evalue": "'bytes' object has no attribute 'shape'",
     "output_type": "error",
     "traceback": [
      "\u001b[0;31m---------------------------------------------------------------------------\u001b[0m",
      "\u001b[0;31mAttributeError\u001b[0m                            Traceback (most recent call last)",
      "Cell \u001b[0;32mIn[28], line 3\u001b[0m\n\u001b[1;32m      1\u001b[0m \u001b[39mprint\u001b[39m (\u001b[39m\"\u001b[39m\u001b[39mReading\u001b[39m\u001b[39m\"\u001b[39m,h5_file)\n\u001b[1;32m      2\u001b[0m hf \u001b[39m=\u001b[39m h5py\u001b[39m.\u001b[39mFile(h5_file, \u001b[39m'\u001b[39m\u001b[39mr\u001b[39m\u001b[39m'\u001b[39m)\n\u001b[0;32m----> 3\u001b[0m \u001b[39mprint\u001b[39m (\u001b[39mbytes\u001b[39;49m(hf[\u001b[39m\"\u001b[39;49m\u001b[39mdata/obssource\u001b[39;49m\u001b[39m\"\u001b[39;49m][()])\u001b[39m.\u001b[39;49mshape)\n\u001b[1;32m      4\u001b[0m \u001b[39m# print (hf[\"data/obssource\"][()].shape)\u001b[39;00m\n\u001b[1;32m      5\u001b[0m hf\u001b[39m.\u001b[39mclose()\n",
      "\u001b[0;31mAttributeError\u001b[0m: 'bytes' object has no attribute 'shape'"
     ]
    }
   ],
   "source": [
    "print (\"Reading\",h5_file)\n",
    "hf = h5py.File(h5_file, 'r')\n",
    "print (bytes(hf[\"data/obssource\"][()]).shape)\n",
    "# print (hf[\"data/obssource\"][()].shape)\n",
    "hf.close()"
   ]
  },
  {
   "cell_type": "code",
   "execution_count": null,
   "metadata": {},
   "outputs": [],
   "source": []
  }
 ],
 "metadata": {
  "kernelspec": {
   "display_name": "Python 3",
   "language": "python",
   "name": "python3"
  },
  "language_info": {
   "codemirror_mode": {
    "name": "ipython",
    "version": 3
   },
   "file_extension": ".py",
   "mimetype": "text/x-python",
   "name": "python",
   "nbconvert_exporter": "python",
   "pygments_lexer": "ipython3",
   "version": "3.11.1"
  }
 },
 "nbformat": 4,
 "nbformat_minor": 4
}
