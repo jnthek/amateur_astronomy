{
 "cells": [
  {
   "cell_type": "code",
   "execution_count": 5,
   "metadata": {},
   "outputs": [],
   "source": [
    "import matplotlib.pyplot as plt\n",
    "import numpy as np\n",
    "import h5py\n",
    "import time\n",
    "\n",
    "plt.rcParams.update({'font.size': 18})\n",
    "# utf8_type = h5py.string_dtype('utf-8', None)\n",
    "# dt = h5py.string_dtype(encoding='utf-8')"
   ]
  },
  {
   "cell_type": "code",
   "execution_count": 6,
   "metadata": {},
   "outputs": [],
   "source": [
    "h5_file = \"test_file.h5\""
   ]
  },
  {
   "cell_type": "code",
   "execution_count": 7,
   "metadata": {},
   "outputs": [
    {
     "name": "stdout",
     "output_type": "stream",
     "text": [
      "Writing to test_file.h5\n"
     ]
    }
   ],
   "source": [
    "print (\"Writing to\",h5_file)\n",
    "hf = h5py.File(h5_file, 'w')\n",
    "\n",
    "timestamp = time.time()\n",
    "dummy_data = np.zeros(4096, dtype=np.float32)\n",
    "\n",
    "data_group = hf.create_group('data')\n",
    "\n",
    "data_group.create_dataset('timestamps', data=np.array([timestamp]), maxshape=(None,))\n",
    "data_group.create_dataset('temperature', data=np.array([0.0]), maxshape=(None,))\n",
    "data_group.create_dataset('obssource', data=np.array([-1]), maxshape=(None,))\n",
    "data_group.create_dataset('radio', data=np.array([dummy_data]), maxshape=(None,None))\n",
    "\n",
    "source_index = 0\n",
    "for i in range(10):\n",
    "        len_old_data = data_group['timestamps'].shape[0]\n",
    "\n",
    "        hf['data/timestamps'].resize((len_old_data + 1), axis=0)\n",
    "        hf['data/timestamps'][-1:] = time.time()\n",
    "\n",
    "        hf['data/temperature'].resize((len_old_data + 1), axis=0)\n",
    "        hf['data/temperature'][-1:] = time.time() - timestamp\n",
    "\n",
    "        hf['data/radio'].resize((len_old_data + 1), axis=0)\n",
    "        hf['data/radio'][-1:] = np.random.normal(0,1,4096)\n",
    "\n",
    "        source_index = int((source_index+1)%3)\n",
    "        hf['data/obssource'].resize((len_old_data + 1), axis=0)\n",
    "        hf['data/obssource'][-1:] = np.array([source_index])\n",
    "\n",
    "hf.close()"
   ]
  },
  {
   "cell_type": "code",
   "execution_count": 8,
   "metadata": {},
   "outputs": [],
   "source": [
    "# s = \"DUMMY\"\n",
    "# intlist = np.array([ord(c) for c in s], dtype=np.ubyte)\n",
    "# print (intlist)\n",
    "# # intlist = np.array([65, 67, 65, 65, 65], dtype=np.ubyte)\n",
    "# bytelist = bytes(intlist) \n",
    "# print (bytelist.decode(\"ascii\"))"
   ]
  }
 ],
 "metadata": {
  "kernelspec": {
   "display_name": "Python 3",
   "language": "python",
   "name": "python3"
  },
  "language_info": {
   "codemirror_mode": {
    "name": "ipython",
    "version": 3
   },
   "file_extension": ".py",
   "mimetype": "text/x-python",
   "name": "python",
   "nbconvert_exporter": "python",
   "pygments_lexer": "ipython3",
   "version": "3.11.1"
  }
 },
 "nbformat": 4,
 "nbformat_minor": 4
}
