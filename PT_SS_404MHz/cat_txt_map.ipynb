{
 "cells": [
  {
   "cell_type": "code",
   "execution_count": 24,
   "metadata": {},
   "outputs": [
    {
     "name": "stdout",
     "output_type": "stream",
     "text": [
      "0\n",
      "25\n",
      "30\n",
      "5\n",
      "52\n",
      "60\n",
      "70\n",
      "80\n",
      "-10\n",
      "-20\n",
      "-5\n",
      "[  0.   0.   0.   0.   0.   0.   0.   0.   0.   0.   0.   0.   0.   0.\n",
      "   0.   0.   0.   0.   0.   0.   0.   0.   0.   0.   0.   0.   0.   0.\n",
      "   0.   0.   0.   0.   0.   0.   0.   0.  25.  25.  25.  25.  25.  25.\n",
      "  25.  25.  25.  25.  30.  30.  30.  30.  30.  30.  30.  30.  30.  30.\n",
      "  30.  30.  30.  30.  30.  30.  30.  30.  30.  30.  30.  30.  30.  30.\n",
      "  30.  30.  30.  30.  30.  30.  30.  30.  30.  30.  30.  30.   5.   5.\n",
      "   5.   5.   5.   5.   5.   5.   5.   5.   5.  52.  52.  52.  52.  52.\n",
      "  52.  52.  52.  52.  52.  52.  52.  52.  52.  52.  52.  52.  52.  52.\n",
      "  52.  52.  52.  52.  52.  52.  52.  60.  60.  60.  60.  60.  60.  60.\n",
      "  60.  60.  60.  60.  60.  60.  60.  60.  60.  60.  60.  60.  60.  60.\n",
      "  60.  60.  60.  60.  60.  70.  70.  70.  70.  70.  70.  70.  70.  70.\n",
      "  70.  70.  70.  70.  70.  70.  70.  70.  70.  70.  70.  70.  70.  70.\n",
      "  80.  80.  80.  80.  80.  80.  80.  80.  80.  80.  80.  80. -10. -10.\n",
      " -10. -10. -10. -10. -10. -10. -10. -10. -10. -10. -10. -10. -10. -10.\n",
      " -10. -10. -10. -10. -10. -10. -10. -10. -10. -10. -10. -10. -10. -10.\n",
      " -10. -10. -10. -10. -10. -20. -20. -20. -20. -20. -20. -20. -20. -20.\n",
      " -20. -20. -20. -20. -20. -20. -20. -20. -20. -20. -20. -20. -20. -20.\n",
      " -20. -20. -20. -20. -20. -20. -20. -20. -20. -20. -20.  -5.  -5.  -5.\n",
      "  -5.  -5.  -5.  -5.]\n"
     ]
    }
   ],
   "source": [
    "import numpy as np\n",
    "\n",
    "filelist_file = open(\"processed_files.txt\", \"r\")\n",
    "dec_list = np.array([])\n",
    "ra_list = np.array([])\n",
    "T_K_list = np.array([])\n",
    "\n",
    "for line in filelist_file:\n",
    "    line = line.strip()\n",
    "    bare_fname = line.split(\"/\")[-1]\n",
    "    declination = (bare_fname.split(\".\")[0])[4:].replace(\"_\",\"-\")\n",
    "    declination = int(declination)\n",
    "    print (declination)\n",
    "\n",
    "    ra_hr = np.loadtxt(line, usecols=0, delimiter=\" \")\n",
    "    ra_min = np.loadtxt(line, usecols=1, delimiter=\" \")\n",
    "    ra_degree = (ra_hr + ra_min/60.0)*360/24.0\n",
    "    T_K = np.loadtxt(line, usecols=2, delimiter=\" \")\n",
    "\n",
    "    dec_list = np.append(dec_list, np.ones(len(T_K))*declination)\n",
    "    ra_list = np.append(ra_list, ra_degree)\n",
    "    T_K_list = np.append(T_K_list, T_K)\n",
    "filelist_file.close()\n",
    "np.savetxt(\"map_data.txt\", np.column_stack([dec_list, ra_list, T_K_list]))"
   ]
  }
 ],
 "metadata": {
  "interpreter": {
   "hash": "aee8b7b246df8f9039afb4144a1f6fd8d2ca17a180786b69acc140d282b71a49"
  },
  "kernelspec": {
   "display_name": "Python 3.7.3 64-bit",
   "language": "python",
   "name": "python3"
  },
  "language_info": {
   "codemirror_mode": {
    "name": "ipython",
    "version": 3
   },
   "file_extension": ".py",
   "mimetype": "text/x-python",
   "name": "python",
   "nbconvert_exporter": "python",
   "pygments_lexer": "ipython3",
   "version": "3.7.3"
  },
  "orig_nbformat": 4
 },
 "nbformat": 4,
 "nbformat_minor": 2
}
