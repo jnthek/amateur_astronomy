{
 "cells": [
  {
   "cell_type": "code",
   "execution_count": 45,
   "metadata": {},
   "outputs": [
    {
     "name": "stdout",
     "output_type": "stream",
     "text": [
      "dec_0.png\n",
      "0\n",
      "dec_10.png\n",
      "10\n",
      "dec_15.png\n",
      "15\n",
      "dec_20.png\n",
      "20\n",
      "dec_5.png\n",
      "5\n",
      "dec__10.png\n",
      "-10\n",
      "dec__20.png\n",
      "-20\n",
      "dec__5.png\n",
      "-5\n",
      "dec_0.png\n",
      "0\n",
      "dec_10.png\n",
      "10\n",
      "dec_15.png\n",
      "15\n",
      "dec_20.png\n",
      "20\n",
      "dec_25.png\n",
      "25\n",
      "dec_30.png\n",
      "30\n",
      "dec_40.png\n",
      "40\n",
      "dec_5.png\n",
      "5\n",
      "dec_52.png\n",
      "52\n",
      "dec_60.png\n",
      "60\n",
      "dec_70.png\n",
      "70\n",
      "dec_80.png\n",
      "80\n",
      "dec__10.png\n",
      "-10\n",
      "dec__20.png\n",
      "-20\n",
      "dec__5.png\n",
      "-5\n"
     ]
    }
   ],
   "source": [
    "import pytesseract\n",
    "# from PIL import Image, ImageEnhance, ImageFilter\n",
    "import numpy as np\n",
    "\n",
    "filelist_file = open(\"filelist.txt\", \"r\")\n",
    "for line in filelist_file:\n",
    "    line = line.strip()\n",
    "    print (line)\n",
    "    declination = (line.split(\".\")[0])[4:].replace(\"_\",\"-\")\n",
    "    declination = int(declination)\n",
    "    print (declination)\n",
    "    fname = line\n",
    "    text = pytesseract.image_to_string(Image.open(fname), config='--psm 4')\n",
    "    text = text.replace(\":\", \".\")\n",
    "    text = text.replace(\"—\", \".\")\n",
    "    text = text.replace(\"-\", \".\")\n",
    "    text = text.replace(\"\\'\", \".\")\n",
    "    text = text.replace(\"°\", \".\")\n",
    "    text = text.replace(\"I\", \"1\")\n",
    "    text = text.replace(\"l\", \"1\")\n",
    "    text = text.replace(\"L\", \"1\")\n",
    "    text = text.replace(\"o\", \"0\")\n",
    "    text = text.replace(\"«\", \"\")\n",
    "    text = text.replace(\"=\", \"\")\n",
    "    print (text.shape)\n",
    "    # outfile = fname.split(\".\")[0] + \".txt\"\n",
    "    # f = open(outfile, 'w')\n",
    "    # f.write(text)\n",
    "    # f.close()\n",
    "filelist_file.close()"
   ]
  }
 ],
 "metadata": {
  "interpreter": {
   "hash": "aee8b7b246df8f9039afb4144a1f6fd8d2ca17a180786b69acc140d282b71a49"
  },
  "kernelspec": {
   "display_name": "Python 3.7.3 64-bit",
   "language": "python",
   "name": "python3"
  },
  "language_info": {
   "codemirror_mode": {
    "name": "ipython",
    "version": 3
   },
   "file_extension": ".py",
   "mimetype": "text/x-python",
   "name": "python",
   "nbconvert_exporter": "python",
   "pygments_lexer": "ipython3",
   "version": "3.7.3"
  },
  "orig_nbformat": 4
 },
 "nbformat": 4,
 "nbformat_minor": 2
}
