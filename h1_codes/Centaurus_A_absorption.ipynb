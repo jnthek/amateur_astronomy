{
 "cells": [
  {
   "cell_type": "code",
   "execution_count": 1,
   "metadata": {},
   "outputs": [],
   "source": [
    "import numpy as np\n",
    "import matplotlib.pyplot as plt\n",
    "# %matplotlib notebook"
   ]
  },
  {
   "cell_type": "code",
   "execution_count": 2,
   "metadata": {},
   "outputs": [],
   "source": [
    "f_H1 = 1420405751.7667\n",
    "c = 299792458"
   ]
  },
  {
   "cell_type": "code",
   "execution_count": 5,
   "metadata": {},
   "outputs": [],
   "source": [
    "cena_file_1 = \"HIPASS_132527.6-4301.txt\"\n",
    "cena_file_2 = \"HIPASS_132527.0-4301.txt\"\n",
    "\n",
    "fornax_file_1 = \"HIPASS_032241.5-3712.txt\"\n",
    "\n",
    "chan = np.loadtxt(cena_file_1, usecols=0, skiprows=36)\n",
    "freq = np.loadtxt(cena_file_1, usecols=1, skiprows=36)*1e6\n",
    "T = np.loadtxt(cena_file_1, usecols=2, skiprows=36)\n",
    "\n",
    "freqc = np.flip(freq)\n",
    "Tc = np.flip(T)\n",
    "\n",
    "freqc = freqc[900:-50]\n",
    "Tc = Tc[900:-50]\n",
    "\n",
    "velc = c*(freqc-f_H1)/f_H1"
   ]
  },
  {
   "cell_type": "code",
   "execution_count": 6,
   "metadata": {},
   "outputs": [
    {
     "data": {
      "text/plain": [
       "[<matplotlib.lines.Line2D at 0x108c1b048>]"
      ]
     },
     "execution_count": 6,
     "metadata": {},
     "output_type": "execute_result"
    },
    {
     "data": {
      "image/png": "[encoded data removed]",
      "text/plain": [
       "<Figure size 432x288 with 1 Axes>"
      ]
     },
     "metadata": {
      "needs_background": "light"
     },
     "output_type": "display_data"
    }
   ],
   "source": [
    "chan = np.loadtxt(fornax_file_1, usecols=0, skiprows=36)\n",
    "freq = np.loadtxt(fornax_file_1, usecols=1, skiprows=36)*1e6\n",
    "T = np.loadtxt(fornax_file_1, usecols=2, skiprows=36)\n",
    "\n",
    "freqf = np.flip(freq)\n",
    "Tf = np.flip(T)\n",
    "\n",
    "freqf = freqf[900:-50]\n",
    "Tf = Tf[900:-50]\n",
    "\n",
    "velf = c*(freqf-f_H1)/f_H1\n",
    "\n",
    "plt.plot(velc/1e3, Tc)\n",
    "plt.plot(velf/1e3, Tf)"
   ]
  },
  {
   "cell_type": "code",
   "execution_count": null,
   "metadata": {},
   "outputs": [],
   "source": []
  },
  {
   "cell_type": "code",
   "execution_count": null,
   "metadata": {},
   "outputs": [],
   "source": []
  }
 ],
 "metadata": {
  "kernelspec": {
   "display_name": "Python 3",
   "language": "python",
   "name": "python3"
  },
  "language_info": {
   "codemirror_mode": {
    "name": "ipython",
    "version": 3
   },
   "file_extension": ".py",
   "mimetype": "text/x-python",
   "name": "python",
   "nbconvert_exporter": "python",
   "pygments_lexer": "ipython3",
   "version": "3.7.3"
  }
 },
 "nbformat": 4,
 "nbformat_minor": 4
}
