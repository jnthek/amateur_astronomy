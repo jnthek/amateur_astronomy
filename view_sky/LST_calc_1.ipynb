{
 "cells": [
  {
   "cell_type": "code",
   "execution_count": 2,
   "metadata": {},
   "outputs": [
    {
     "name": "stdout",
     "output_type": "stream",
     "text": [
      "LST = 9.217944982955666 hrs\n"
     ]
    }
   ],
   "source": [
    "from datetime import datetime\n",
    "import numpy as np\n",
    "import matplotlib.pyplot as plt\n",
    "import ephem\n",
    "'''\n",
    "Uses info from https://geohack.toolforge.org/geohack.php?pagename=Murchison_Radio-astronomy_Observatory&params=26.70312_S_116.670575_E_\n",
    "as well as https://rhodesmill.org/pyephem/quick.html\n",
    "'''\n",
    "MRO_observer = ephem.Observer()\n",
    "MRO_observer.lon = '115.8613' \n",
    "MRO_observer.lat = '-31.9523'\n",
    "MRO_observer.elevation = 0\n",
    "MRO_observer.date = datetime(2022, 4, 14, 20-8, 0) #Year, month, date, hrs, mins - UTC\n",
    "# MRO_observer.date = datetime.utcnow()\n",
    "ra_rad, dec_rad = MRO_observer.radec_of(0, np.pi/2)\n",
    "print (\"LST =\",ra_rad*12/np.pi, \"hrs\")"
   ]
  },
  {
   "cell_type": "code",
   "execution_count": null,
   "metadata": {},
   "outputs": [],
   "source": []
  }
 ],
 "metadata": {
  "kernelspec": {
   "display_name": "Python 3",
   "language": "python",
   "name": "python3"
  },
  "language_info": {
   "codemirror_mode": {
    "name": "ipython",
    "version": 3
   },
   "file_extension": ".py",
   "mimetype": "text/x-python",
   "name": "python",
   "nbconvert_exporter": "python",
   "pygments_lexer": "ipython3",
   "version": "3.6.9"
  }
 },
 "nbformat": 4,
 "nbformat_minor": 4
}
